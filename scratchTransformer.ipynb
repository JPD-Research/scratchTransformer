{
 "cells": [
  {
   "cell_type": "markdown",
   "metadata": {
    "pycharm": {
     "is_executing": true
    }
   },
   "source": [
    "ToDo:\n",
    "Implement code...11/26\n",
    "Break code down further and utilize outputs for specific task"
   ]
  },
  {
   "cell_type": "markdown",
   "metadata": {
    "collapsed": false,
    "jupyter": {
     "outputs_hidden": false
    },
    "pycharm": {
     "is_executing": true
    }
   },
   "source": [
    "https://towardsdatascience.com/build-your-own-transformer-from-scratch-using-pytorch-84c850470dcb\n",
    "\n",
    "imports:"
   ]
  },
  {
   "cell_type": "code",
   "execution_count": 2,
   "metadata": {
    "collapsed": false,
    "jupyter": {
     "outputs_hidden": false
    }
   },
   "outputs": [],
   "source": [
    "import torch\n",
    "import torch.nn as nn\n",
    "import torch.optim as optim\n",
    "import torch.utils.data as data\n",
    "import math\n",
    "import copy"
   ]
  },
  {
   "cell_type": "markdown",
   "metadata": {
    "collapsed": false,
    "jupyter": {
     "outputs_hidden": false
    }
   },
   "source": [
    "The Multi-Head Attention mechanism computes the attention between each pair of positions in a sequence. It consists of multiple “attention heads” that capture different aspects of the input sequence."
   ]
  },
  {
   "cell_type": "code",
   "execution_count": 3,
   "metadata": {},
   "outputs": [],
   "source": [
    "class MultiHeadAttention(nn.Module):\n",
    "    def __init__(self, d_model, num_heads):\n",
    "        super(MultiHeadAttention, self).__init__()\n",
    "        assert d_model % num_heads == 0, \"d_model must be divisible by num_heads\"\n",
    "        \n",
    "        self.d_model = d_model\n",
    "        self.num_heads = num_heads\n",
    "        self.d_k = d_model // num_heads\n",
    "        \n",
    "        self.W_q = nn.Linear(d_model, d_model)\n",
    "        self.W_k = nn.Linear(d_model, d_model)\n",
    "        self.W_v = nn.Linear(d_model, d_model)\n",
    "        self.W_o = nn.Linear(d_model, d_model)\n",
    "        \n",
    "    def scaled_dot_product_attention(self, Q, K, V, mask=None):\n",
    "        attn_scores = torch.matmul(Q, K.transpose(-2, -1)) / math.sqrt(self.d_k)\n",
    "        if mask is not None:\n",
    "            attn_scores = attn_scores.masked_fill(mask == 0, -1e9)\n",
    "        attn_probs = torch.softmax(attn_scores, dim=-1)\n",
    "        output = torch.matmul(attn_probs, V)\n",
    "        return output\n",
    "        \n",
    "    def split_heads(self, x):\n",
    "        batch_size, seq_length, d_model = x.size()\n",
    "        return x.view(batch_size, seq_length, self.num_heads, self.d_k).transpose(1, 2)\n",
    "        \n",
    "    def combine_heads(self, x):\n",
    "        batch_size, _, seq_length, d_k = x.size()\n",
    "        return x.transpose(1, 2).contiguous().view(batch_size, seq_length, self.d_model)\n",
    "        \n",
    "    def forward(self, Q, K, V, mask=None):\n",
    "        Q = self.split_heads(self.W_q(Q))\n",
    "        K = self.split_heads(self.W_k(K))\n",
    "        V = self.split_heads(self.W_v(V))\n",
    "        \n",
    "        attn_output = self.scaled_dot_product_attention(Q, K, V, mask)\n",
    "        output = self.W_o(self.combine_heads(attn_output))\n",
    "        return output"
   ]
  },
  {
   "cell_type": "markdown",
   "metadata": {},
   "source": [
    "The PositionWiseFeedForward class extends PyTorch’s nn.Module and implements a position-wise feed-forward network. The class initializes with two linear transformation layers and a ReLU activation function. The forward method applies these transformations and activation function sequentially to compute the output. This process enables the model to consider the position of input elements while making predictions."
   ]
  },
  {
   "cell_type": "code",
   "execution_count": 5,
   "metadata": {},
   "outputs": [],
   "source": [
    "class PositionWiseFeedForward(nn.Module):\n",
    "    def __init__(self, d_model, d_ff):\n",
    "        super(PositionWiseFeedForward, self).__init__()\n",
    "        self.fc1 = nn.Linear(d_model, d_ff)\n",
    "        self.fc2 = nn.Linear(d_ff, d_model)\n",
    "        self.relu = nn.ReLU()\n",
    "\n",
    "    def forward(self, x):\n",
    "        return self.fc2(self.relu(self.fc1(x)))"
   ]
  },
  {
   "cell_type": "markdown",
   "metadata": {},
   "source": [
    "Positional Encoding is used to inject the position information of each token in the input sequence. It uses sine and cosine functions of different frequencies to generate the positional encoding.\n",
    "\n",
    "The PositionalEncoding class initializes with input parameters d_model and max_seq_length, creating a tensor to store positional encoding values. The class calculates sine and cosine values for even and odd indices, respectively, based on the scaling factor div_term. The forward method computes the positional encoding by adding the stored positional encoding values to the input tensor, allowing the model to capture the position information of the input sequence."
   ]
  },
  {
   "cell_type": "code",
   "execution_count": 7,
   "metadata": {},
   "outputs": [],
   "source": [
    "class PositionalEncoding(nn.Module):\n",
    "    def __init__(self, d_model, max_seq_length):\n",
    "        super(PositionalEncoding, self).__init__()\n",
    "        \n",
    "        pe = torch.zeros(max_seq_length, d_model)\n",
    "        position = torch.arange(0, max_seq_length, dtype=torch.float).unsqueeze(1)\n",
    "        div_term = torch.exp(torch.arange(0, d_model, 2).float() * -(math.log(10000.0) / d_model))\n",
    "        \n",
    "        pe[:, 0::2] = torch.sin(position * div_term)\n",
    "        pe[:, 1::2] = torch.cos(position * div_term)\n",
    "        \n",
    "        self.register_buffer('pe', pe.unsqueeze(0))\n",
    "        \n",
    "    def forward(self, x):\n",
    "        return x + self.pe[:, :x.size(1)]"
   ]
  },
  {
   "cell_type": "markdown",
   "metadata": {},
   "source": [
    "An Encoder layer consists of a Multi-Head Attention layer, a Position-wise Feed-Forward layer, and two Layer Normalization layers.\n",
    "\n",
    "The EncoderLayer class initializes with input parameters and components, including a MultiHeadAttention module, a PositionWiseFeedForward module, two layer normalization modules, and a dropout layer. The forward methods computes the encoder layer output by applying self-attention, adding the attention output to the input tensor, and normalizing the result. Then, it computes the position-wise feed-forward output, combines it with the normalized self-attention output, and normalizes the final result before returning the processed tensor."
   ]
  },
  {
   "cell_type": "code",
   "execution_count": 8,
   "metadata": {},
   "outputs": [],
   "source": [
    "class EncoderLayer(nn.Module):\n",
    "    def __init__(self, d_model, num_heads, d_ff, dropout):\n",
    "        super(EncoderLayer, self).__init__()\n",
    "        self.self_attn = MultiHeadAttention(d_model, num_heads)\n",
    "        self.feed_forward = PositionWiseFeedForward(d_model, d_ff)\n",
    "        self.norm1 = nn.LayerNorm(d_model)\n",
    "        self.norm2 = nn.LayerNorm(d_model)\n",
    "        self.dropout = nn.Dropout(dropout)\n",
    "        \n",
    "    def forward(self, x, mask):\n",
    "        attn_output = self.self_attn(x, x, x, mask)\n",
    "        x = self.norm1(x + self.dropout(attn_output))\n",
    "        ff_output = self.feed_forward(x)\n",
    "        x = self.norm2(x + self.dropout(ff_output))\n",
    "        return x"
   ]
  },
  {
   "cell_type": "markdown",
   "metadata": {},
   "source": [
    "A Decoder layer consists of two Multi-Head Attention layers, a Position-wise Feed-Forward layer, and three Layer Normalization layers.\n",
    "\n",
    "The DecoderLayer initializes with input parameters and components such as MultiHeadAttention modules for masked self-attention and cross-attention, a PositionWiseFeedForward module, three layer normalization modules, and a dropout layer.\n",
    "\n",
    "The forward method computes the decoder layer output by performing the following steps:\n",
    "\n",
    "Calculate the masked self-attention output and add it to the input tensor, followed by dropout and layer normalization.\n",
    "Compute the cross-attention output between the decoder and encoder outputs, and add it to the normalized masked self-attention output, followed by dropout and layer normalization.\n",
    "Calculate the position-wise feed-forward output and combine it with the normalized cross-attention output, followed by dropout and layer normalization.\n",
    "Return the processed tensor.\n",
    "These operations enable the decoder to generate target sequences based on the input and the encoder output.\n",
    "\n",
    "Now, let’s combine the Encoder and Decoder layers to create the complete Transformer model."
   ]
  },
  {
   "cell_type": "code",
   "execution_count": 9,
   "metadata": {},
   "outputs": [],
   "source": [
    "class DecoderLayer(nn.Module):\n",
    "    def __init__(self, d_model, num_heads, d_ff, dropout):\n",
    "        super(DecoderLayer, self).__init__()\n",
    "        self.self_attn = MultiHeadAttention(d_model, num_heads)\n",
    "        self.cross_attn = MultiHeadAttention(d_model, num_heads)\n",
    "        self.feed_forward = PositionWiseFeedForward(d_model, d_ff)\n",
    "        self.norm1 = nn.LayerNorm(d_model)\n",
    "        self.norm2 = nn.LayerNorm(d_model)\n",
    "        self.norm3 = nn.LayerNorm(d_model)\n",
    "        self.dropout = nn.Dropout(dropout)\n",
    "        \n",
    "    def forward(self, x, enc_output, src_mask, tgt_mask):\n",
    "        attn_output = self.self_attn(x, x, x, tgt_mask)\n",
    "        x = self.norm1(x + self.dropout(attn_output))\n",
    "        attn_output = self.cross_attn(x, enc_output, enc_output, src_mask)\n",
    "        x = self.norm2(x + self.dropout(attn_output))\n",
    "        ff_output = self.feed_forward(x)\n",
    "        x = self.norm3(x + self.dropout(ff_output))\n",
    "        return x"
   ]
  },
  {
   "cell_type": "markdown",
   "metadata": {},
   "source": [
    "The Transformer class combines the previously defined modules to create a complete Transformer model. During initialization, the Transformer module sets up input parameters and initializes various components, including embedding layers for source and target sequences, a PositionalEncoding module, EncoderLayer and DecoderLayer modules to create stacked layers, a linear layer for projecting decoder output, and a dropout layer.\n",
    "\n",
    "The generate_mask method creates binary masks for source and target sequences to ignore padding tokens and prevent the decoder from attending to future tokens. The forward method computes the Transformer model’s output through the following steps:\n",
    "\n",
    "Generate source and target masks using the generate_mask method.\n",
    "Compute source and target embeddings, and apply positional encoding and dropout.\n",
    "Process the source sequence through encoder layers, updating the enc_output tensor.\n",
    "Process the target sequence through decoder layers, using enc_output and masks, and updating the dec_output tensor.\n",
    "Apply the linear projection layer to the decoder output, obtaining output logits.\n",
    "These steps enable the Transformer model to process input sequences and generate output sequences based on the combined functionality of its components."
   ]
  },
  {
   "cell_type": "code",
   "execution_count": 10,
   "metadata": {},
   "outputs": [],
   "source": [
    "class Transformer(nn.Module):\n",
    "    def __init__(self, src_vocab_size, tgt_vocab_size, d_model, num_heads, num_layers, d_ff, max_seq_length, dropout):\n",
    "        super(Transformer, self).__init__()\n",
    "        self.encoder_embedding = nn.Embedding(src_vocab_size, d_model)\n",
    "        self.decoder_embedding = nn.Embedding(tgt_vocab_size, d_model)\n",
    "        self.positional_encoding = PositionalEncoding(d_model, max_seq_length)\n",
    "\n",
    "        self.encoder_layers = nn.ModuleList([EncoderLayer(d_model, num_heads, d_ff, dropout) for _ in range(num_layers)])\n",
    "        self.decoder_layers = nn.ModuleList([DecoderLayer(d_model, num_heads, d_ff, dropout) for _ in range(num_layers)])\n",
    "\n",
    "        self.fc = nn.Linear(d_model, tgt_vocab_size)\n",
    "        self.dropout = nn.Dropout(dropout)\n",
    "\n",
    "    def generate_mask(self, src, tgt):\n",
    "        src_mask = (src != 0).unsqueeze(1).unsqueeze(2)\n",
    "        tgt_mask = (tgt != 0).unsqueeze(1).unsqueeze(3)\n",
    "        seq_length = tgt.size(1)\n",
    "        nopeak_mask = (1 - torch.triu(torch.ones(1, seq_length, seq_length), diagonal=1)).bool()\n",
    "        tgt_mask = tgt_mask & nopeak_mask\n",
    "        return src_mask, tgt_mask\n",
    "\n",
    "    def forward(self, src, tgt):\n",
    "        src_mask, tgt_mask = self.generate_mask(src, tgt)\n",
    "        src_embedded = self.dropout(self.positional_encoding(self.encoder_embedding(src)))\n",
    "        tgt_embedded = self.dropout(self.positional_encoding(self.decoder_embedding(tgt)))\n",
    "\n",
    "        enc_output = src_embedded\n",
    "        for enc_layer in self.encoder_layers:\n",
    "            enc_output = enc_layer(enc_output, src_mask)\n",
    "\n",
    "        dec_output = tgt_embedded\n",
    "        for dec_layer in self.decoder_layers:\n",
    "            dec_output = dec_layer(dec_output, enc_output, src_mask, tgt_mask)\n",
    "\n",
    "        output = self.fc(dec_output)\n",
    "        return output"
   ]
  },
  {
   "cell_type": "markdown",
   "metadata": {},
   "source": [
    "Preparing Sample Data\n",
    "In this example, we will create a toy dataset for demonstration purposes. In practice, you would use a larger dataset, preprocess the text, and create vocabulary mappings for source and target languages."
   ]
  },
  {
   "cell_type": "code",
   "execution_count": 11,
   "metadata": {},
   "outputs": [],
   "source": [
    "src_vocab_size = 5000\n",
    "tgt_vocab_size = 5000\n",
    "d_model = 512\n",
    "num_heads = 8\n",
    "num_layers = 6\n",
    "d_ff = 2048\n",
    "max_seq_length = 100\n",
    "dropout = 0.1\n",
    "\n",
    "transformer = Transformer(src_vocab_size, tgt_vocab_size, d_model, num_heads, num_layers, d_ff, max_seq_length, dropout)\n",
    "\n",
    "# Generate random sample data\n",
    "src_data = torch.randint(1, src_vocab_size, (64, max_seq_length))  # (batch_size, seq_length)\n",
    "tgt_data = torch.randint(1, tgt_vocab_size, (64, max_seq_length))  # (batch_size, seq_length)"
   ]
  },
  {
   "cell_type": "markdown",
   "metadata": {},
   "source": [
    "Training the Model\n",
    "Now we’ll train the model using the sample data. In practice, you would use a larger dataset and split it into training and validation sets."
   ]
  },
  {
   "cell_type": "code",
   "execution_count": 12,
   "metadata": {},
   "outputs": [
    {
     "name": "stdout",
     "output_type": "stream",
     "text": [
      "Epoch: 1, Loss: 8.68248462677002\n",
      "Epoch: 2, Loss: 8.5418119430542\n",
      "Epoch: 3, Loss: 8.471285820007324\n",
      "Epoch: 4, Loss: 8.411945343017578\n",
      "Epoch: 5, Loss: 8.35617733001709\n",
      "Epoch: 6, Loss: 8.28528118133545\n",
      "Epoch: 7, Loss: 8.199212074279785\n",
      "Epoch: 8, Loss: 8.117399215698242\n",
      "Epoch: 9, Loss: 8.035598754882812\n",
      "Epoch: 10, Loss: 7.959878444671631\n",
      "Epoch: 11, Loss: 7.87527322769165\n",
      "Epoch: 12, Loss: 7.790726661682129\n",
      "Epoch: 13, Loss: 7.710944175720215\n",
      "Epoch: 14, Loss: 7.630277156829834\n",
      "Epoch: 15, Loss: 7.544305801391602\n",
      "Epoch: 16, Loss: 7.459365367889404\n",
      "Epoch: 17, Loss: 7.3758978843688965\n",
      "Epoch: 18, Loss: 7.291562080383301\n",
      "Epoch: 19, Loss: 7.207073211669922\n",
      "Epoch: 20, Loss: 7.13834285736084\n",
      "Epoch: 21, Loss: 7.0510759353637695\n",
      "Epoch: 22, Loss: 6.977920055389404\n",
      "Epoch: 23, Loss: 6.899731636047363\n",
      "Epoch: 24, Loss: 6.8247809410095215\n",
      "Epoch: 25, Loss: 6.750019073486328\n",
      "Epoch: 26, Loss: 6.685509204864502\n",
      "Epoch: 27, Loss: 6.591519832611084\n",
      "Epoch: 28, Loss: 6.527848243713379\n",
      "Epoch: 29, Loss: 6.455116271972656\n",
      "Epoch: 30, Loss: 6.393354415893555\n",
      "Epoch: 31, Loss: 6.320797920227051\n",
      "Epoch: 32, Loss: 6.258952617645264\n",
      "Epoch: 33, Loss: 6.187626838684082\n",
      "Epoch: 34, Loss: 6.1194329261779785\n",
      "Epoch: 35, Loss: 6.056948661804199\n",
      "Epoch: 36, Loss: 5.988998889923096\n",
      "Epoch: 37, Loss: 5.923015594482422\n",
      "Epoch: 38, Loss: 5.857969284057617\n",
      "Epoch: 39, Loss: 5.796121120452881\n",
      "Epoch: 40, Loss: 5.733500003814697\n",
      "Epoch: 41, Loss: 5.667314052581787\n",
      "Epoch: 42, Loss: 5.616147041320801\n",
      "Epoch: 43, Loss: 5.548425674438477\n",
      "Epoch: 44, Loss: 5.486534595489502\n",
      "Epoch: 45, Loss: 5.429070472717285\n",
      "Epoch: 46, Loss: 5.3730597496032715\n",
      "Epoch: 47, Loss: 5.308340549468994\n",
      "Epoch: 48, Loss: 5.256465911865234\n",
      "Epoch: 49, Loss: 5.199029445648193\n",
      "Epoch: 50, Loss: 5.139821529388428\n",
      "Epoch: 51, Loss: 5.089879989624023\n",
      "Epoch: 52, Loss: 5.037292957305908\n",
      "Epoch: 53, Loss: 4.974616527557373\n",
      "Epoch: 54, Loss: 4.919605731964111\n",
      "Epoch: 55, Loss: 4.863523006439209\n",
      "Epoch: 56, Loss: 4.810115337371826\n",
      "Epoch: 57, Loss: 4.755151748657227\n",
      "Epoch: 58, Loss: 4.69722318649292\n",
      "Epoch: 59, Loss: 4.648138046264648\n",
      "Epoch: 60, Loss: 4.595560550689697\n",
      "Epoch: 61, Loss: 4.549691677093506\n",
      "Epoch: 62, Loss: 4.496809005737305\n",
      "Epoch: 63, Loss: 4.440881252288818\n",
      "Epoch: 64, Loss: 4.391978740692139\n",
      "Epoch: 65, Loss: 4.3397135734558105\n",
      "Epoch: 66, Loss: 4.292733192443848\n",
      "Epoch: 67, Loss: 4.234440803527832\n",
      "Epoch: 68, Loss: 4.188865661621094\n",
      "Epoch: 69, Loss: 4.142924785614014\n",
      "Epoch: 70, Loss: 4.09249210357666\n",
      "Epoch: 71, Loss: 4.039365291595459\n",
      "Epoch: 72, Loss: 3.994704008102417\n",
      "Epoch: 73, Loss: 3.9450724124908447\n",
      "Epoch: 74, Loss: 3.9078495502471924\n",
      "Epoch: 75, Loss: 3.855590581893921\n",
      "Epoch: 76, Loss: 3.8080170154571533\n",
      "Epoch: 77, Loss: 3.758310556411743\n",
      "Epoch: 78, Loss: 3.7089903354644775\n",
      "Epoch: 79, Loss: 3.660236358642578\n",
      "Epoch: 80, Loss: 3.614607095718384\n",
      "Epoch: 81, Loss: 3.5702965259552\n",
      "Epoch: 82, Loss: 3.5307397842407227\n",
      "Epoch: 83, Loss: 3.476055383682251\n",
      "Epoch: 84, Loss: 3.431020736694336\n",
      "Epoch: 85, Loss: 3.3819386959075928\n",
      "Epoch: 86, Loss: 3.3366596698760986\n",
      "Epoch: 87, Loss: 3.2951133251190186\n",
      "Epoch: 88, Loss: 3.247781991958618\n",
      "Epoch: 89, Loss: 3.2116153240203857\n",
      "Epoch: 90, Loss: 3.1644527912139893\n",
      "Epoch: 91, Loss: 3.112910032272339\n",
      "Epoch: 92, Loss: 3.078930139541626\n",
      "Epoch: 93, Loss: 3.0327486991882324\n",
      "Epoch: 94, Loss: 2.989297866821289\n",
      "Epoch: 95, Loss: 2.9413979053497314\n",
      "Epoch: 96, Loss: 2.906355142593384\n",
      "Epoch: 97, Loss: 2.8638112545013428\n",
      "Epoch: 98, Loss: 2.8156862258911133\n",
      "Epoch: 99, Loss: 2.7762155532836914\n",
      "Epoch: 100, Loss: 2.733550786972046\n"
     ]
    }
   ],
   "source": [
    "criterion = nn.CrossEntropyLoss(ignore_index=0)\n",
    "optimizer = optim.Adam(transformer.parameters(), lr=0.0001, betas=(0.9, 0.98), eps=1e-9)\n",
    "\n",
    "transformer.train()\n",
    "\n",
    "for epoch in range(100):\n",
    "    optimizer.zero_grad()\n",
    "    output = transformer(src_data, tgt_data[:, :-1])\n",
    "    loss = criterion(output.contiguous().view(-1, tgt_vocab_size), tgt_data[:, 1:].contiguous().view(-1))\n",
    "    loss.backward()\n",
    "    optimizer.step()\n",
    "    print(f\"Epoch: {epoch+1}, Loss: {loss.item()}\")"
   ]
  },
  {
   "cell_type": "markdown",
   "metadata": {},
   "source": [
    "We can use this way to build a simple Transformer from scratch in Pytorch. All Large Language Models use these Transformer encoder or decoder blocks for training. Hence understanding the network that started it all is extremely important. Hope this article helps all looking to deep dive into LLM’s."
   ]
  },
  {
   "cell_type": "code",
   "execution_count": null,
   "metadata": {},
   "outputs": [],
   "source": []
  }
 ],
 "metadata": {
  "kernelspec": {
   "display_name": "Python 3 (ipykernel)",
   "language": "python",
   "name": "python3"
  },
  "language_info": {
   "codemirror_mode": {
    "name": "ipython",
    "version": 3
   },
   "file_extension": ".py",
   "mimetype": "text/x-python",
   "name": "python",
   "nbconvert_exporter": "python",
   "pygments_lexer": "ipython3",
   "version": "3.10.13"
  }
 },
 "nbformat": 4,
 "nbformat_minor": 4
}
